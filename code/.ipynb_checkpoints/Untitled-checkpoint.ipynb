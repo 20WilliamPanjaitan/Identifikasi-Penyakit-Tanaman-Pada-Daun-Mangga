{
 "cells": [
  {
   "cell_type": "code",
   "execution_count": 2,
   "id": "608724ea-06c8-45ce-9798-10c24c45e41e",
   "metadata": {},
   "outputs": [],
   "source": [
    "import numpy as np\n",
    "import pandas as pd\n",
    "import matplotlib.pyplot as plt\n",
    "import seaborn as sns\n",
    "import random\n",
    "import os\n",
    "from os import listdir\n",
    "from PIL import Image\n",
    "from sklearn.model_selection import train_test_split\n",
    "from tensorflow.keras.preprocessing.image import img_to_array, array_to_img\n",
    "from tensorflow.keras.utils import to_categorical\n",
    "from tensorflow.keras.models import Sequential, Model\n",
    "from tensorflow.keras.layers import Dense, Dropout, Flatten, Conv2D, MaxPooling2D, GlobalAveragePooling2D\n",
    "from tensorflow.keras.callbacks import ModelCheckpoint, EarlyStopping\n",
    "from tensorflow.keras.applications import VGG16, VGG19, ResNet50, DenseNet121\n",
    "from tensorflow.keras.optimizers import Adam"
   ]
  },
  {
   "cell_type": "code",
   "execution_count": null,
   "id": "3d00f1c7-1289-4dab-8085-ce3659f94425",
   "metadata": {},
   "outputs": [],
   "source": [
    "# Function to convert images to arrays\n",
    "def convert_image_to_array(image_dir):\n",
    "    try:\n",
    "        image = cv2.imread(image_dir)\n",
    "        if image is not None:\n",
    "            image = cv2.resize(image, (256, 256))\n",
    "            return img_to_array(image)\n",
    "        else:\n",
    "            return np.array([])\n",
    "    except Exception as e:\n",
    "        print(f\"Error : {e}\")\n",
    "        return None\n",
    "\n",
    "# Function to load dataset from a directory (train or test)\n",
    "def load_dataset(data_dir):\n",
    "    image_list, label_list = [], []\n",
    "    for directory in listdir(data_dir):\n",
    "        plant_image_list = listdir(f\"{data_dir}/{directory}\")\n",
    "        for files in plant_image_list:\n",
    "            image_path = f\"{data_dir}/{directory}/{files}\"\n",
    "            image_list.append(convert_image_to_array(image_path))\n",
    "            label_list.append(binary_labels[all_labels.index(directory)])\n",
    "    return image_list, label_list\n",
    "\n",
    "# Function to plot the test images\n",
    "def output_plot(image, model):\n",
    "    class_labels = classes\n",
    "    fig, axs = plt.subplots(1, 2, figsize=(10, 2))\n",
    "\n",
    "    predictions = model.predict(image.reshape(1, 256, 256, 3))\n",
    "\n",
    "    axs[0].imshow(array_to_img(image))\n",
    "    axs[0].axis('off')\n",
    "    prediction_values = predictions[0]\n",
    "\n",
    "    max_index = np.argmax(prediction_values)\n",
    "    colors = ['green' if i == max_index else 'blue' for i in range(len(class_labels))]\n",
    "\n",
    "    axs[1].barh(class_labels, prediction_values, color=colors)\n",
    "    axs[1].set_xlim([0, 1])\n",
    "\n",
    "    plt.tight_layout()\n",
    "    plt.show()"
   ]
  }
 ],
 "metadata": {
  "kernelspec": {
   "display_name": "Python 3 (ipykernel)",
   "language": "python",
   "name": "python3"
  },
  "language_info": {
   "codemirror_mode": {
    "name": "ipython",
    "version": 3
   },
   "file_extension": ".py",
   "mimetype": "text/x-python",
   "name": "python",
   "nbconvert_exporter": "python",
   "pygments_lexer": "ipython3",
   "version": "3.12.4"
  }
 },
 "nbformat": 4,
 "nbformat_minor": 5
}
